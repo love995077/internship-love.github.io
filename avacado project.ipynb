{
 "cells": [
  {
   "cell_type": "code",
   "execution_count": 1,
   "id": "b1156b69",
   "metadata": {},
   "outputs": [],
   "source": [
    "import numpy as np\n",
    "import pandas as pd\n",
    "import seaborn as sns\n",
    "import matplotlib.pyplot as plt\n"
   ]
  },
  {
   "cell_type": "code",
   "execution_count": 2,
   "id": "367f743c",
   "metadata": {},
   "outputs": [
    {
     "data": {
      "text/html": [
       "<div>\n",
       "<style scoped>\n",
       "    .dataframe tbody tr th:only-of-type {\n",
       "        vertical-align: middle;\n",
       "    }\n",
       "\n",
       "    .dataframe tbody tr th {\n",
       "        vertical-align: top;\n",
       "    }\n",
       "\n",
       "    .dataframe thead th {\n",
       "        text-align: right;\n",
       "    }\n",
       "</style>\n",
       "<table border=\"1\" class=\"dataframe\">\n",
       "  <thead>\n",
       "    <tr style=\"text-align: right;\">\n",
       "      <th></th>\n",
       "      <th>Unnamed: 0</th>\n",
       "      <th>Date</th>\n",
       "      <th>AveragePrice</th>\n",
       "      <th>Total Volume</th>\n",
       "      <th>4046</th>\n",
       "      <th>4225</th>\n",
       "      <th>4770</th>\n",
       "      <th>Total Bags</th>\n",
       "      <th>Small Bags</th>\n",
       "      <th>Large Bags</th>\n",
       "      <th>XLarge Bags</th>\n",
       "      <th>type</th>\n",
       "      <th>year</th>\n",
       "      <th>region</th>\n",
       "    </tr>\n",
       "  </thead>\n",
       "  <tbody>\n",
       "    <tr>\n",
       "      <th>0</th>\n",
       "      <td>0</td>\n",
       "      <td>2015-12-27</td>\n",
       "      <td>1.33</td>\n",
       "      <td>64236.62</td>\n",
       "      <td>1036.74</td>\n",
       "      <td>54454.85</td>\n",
       "      <td>48.16</td>\n",
       "      <td>8696.87</td>\n",
       "      <td>8603.62</td>\n",
       "      <td>93.25</td>\n",
       "      <td>0.0</td>\n",
       "      <td>conventional</td>\n",
       "      <td>2015</td>\n",
       "      <td>Albany</td>\n",
       "    </tr>\n",
       "    <tr>\n",
       "      <th>1</th>\n",
       "      <td>1</td>\n",
       "      <td>2015-12-20</td>\n",
       "      <td>1.35</td>\n",
       "      <td>54876.98</td>\n",
       "      <td>674.28</td>\n",
       "      <td>44638.81</td>\n",
       "      <td>58.33</td>\n",
       "      <td>9505.56</td>\n",
       "      <td>9408.07</td>\n",
       "      <td>97.49</td>\n",
       "      <td>0.0</td>\n",
       "      <td>conventional</td>\n",
       "      <td>2015</td>\n",
       "      <td>Albany</td>\n",
       "    </tr>\n",
       "    <tr>\n",
       "      <th>2</th>\n",
       "      <td>2</td>\n",
       "      <td>2015-12-13</td>\n",
       "      <td>0.93</td>\n",
       "      <td>118220.22</td>\n",
       "      <td>794.70</td>\n",
       "      <td>109149.67</td>\n",
       "      <td>130.50</td>\n",
       "      <td>8145.35</td>\n",
       "      <td>8042.21</td>\n",
       "      <td>103.14</td>\n",
       "      <td>0.0</td>\n",
       "      <td>conventional</td>\n",
       "      <td>2015</td>\n",
       "      <td>Albany</td>\n",
       "    </tr>\n",
       "    <tr>\n",
       "      <th>3</th>\n",
       "      <td>3</td>\n",
       "      <td>2015-12-06</td>\n",
       "      <td>1.08</td>\n",
       "      <td>78992.15</td>\n",
       "      <td>1132.00</td>\n",
       "      <td>71976.41</td>\n",
       "      <td>72.58</td>\n",
       "      <td>5811.16</td>\n",
       "      <td>5677.40</td>\n",
       "      <td>133.76</td>\n",
       "      <td>0.0</td>\n",
       "      <td>conventional</td>\n",
       "      <td>2015</td>\n",
       "      <td>Albany</td>\n",
       "    </tr>\n",
       "    <tr>\n",
       "      <th>4</th>\n",
       "      <td>4</td>\n",
       "      <td>2015-11-29</td>\n",
       "      <td>1.28</td>\n",
       "      <td>51039.60</td>\n",
       "      <td>941.48</td>\n",
       "      <td>43838.39</td>\n",
       "      <td>75.78</td>\n",
       "      <td>6183.95</td>\n",
       "      <td>5986.26</td>\n",
       "      <td>197.69</td>\n",
       "      <td>0.0</td>\n",
       "      <td>conventional</td>\n",
       "      <td>2015</td>\n",
       "      <td>Albany</td>\n",
       "    </tr>\n",
       "    <tr>\n",
       "      <th>...</th>\n",
       "      <td>...</td>\n",
       "      <td>...</td>\n",
       "      <td>...</td>\n",
       "      <td>...</td>\n",
       "      <td>...</td>\n",
       "      <td>...</td>\n",
       "      <td>...</td>\n",
       "      <td>...</td>\n",
       "      <td>...</td>\n",
       "      <td>...</td>\n",
       "      <td>...</td>\n",
       "      <td>...</td>\n",
       "      <td>...</td>\n",
       "      <td>...</td>\n",
       "    </tr>\n",
       "    <tr>\n",
       "      <th>18244</th>\n",
       "      <td>7</td>\n",
       "      <td>2018-02-04</td>\n",
       "      <td>1.63</td>\n",
       "      <td>17074.83</td>\n",
       "      <td>2046.96</td>\n",
       "      <td>1529.20</td>\n",
       "      <td>0.00</td>\n",
       "      <td>13498.67</td>\n",
       "      <td>13066.82</td>\n",
       "      <td>431.85</td>\n",
       "      <td>0.0</td>\n",
       "      <td>organic</td>\n",
       "      <td>2018</td>\n",
       "      <td>WestTexNewMexico</td>\n",
       "    </tr>\n",
       "    <tr>\n",
       "      <th>18245</th>\n",
       "      <td>8</td>\n",
       "      <td>2018-01-28</td>\n",
       "      <td>1.71</td>\n",
       "      <td>13888.04</td>\n",
       "      <td>1191.70</td>\n",
       "      <td>3431.50</td>\n",
       "      <td>0.00</td>\n",
       "      <td>9264.84</td>\n",
       "      <td>8940.04</td>\n",
       "      <td>324.80</td>\n",
       "      <td>0.0</td>\n",
       "      <td>organic</td>\n",
       "      <td>2018</td>\n",
       "      <td>WestTexNewMexico</td>\n",
       "    </tr>\n",
       "    <tr>\n",
       "      <th>18246</th>\n",
       "      <td>9</td>\n",
       "      <td>2018-01-21</td>\n",
       "      <td>1.87</td>\n",
       "      <td>13766.76</td>\n",
       "      <td>1191.92</td>\n",
       "      <td>2452.79</td>\n",
       "      <td>727.94</td>\n",
       "      <td>9394.11</td>\n",
       "      <td>9351.80</td>\n",
       "      <td>42.31</td>\n",
       "      <td>0.0</td>\n",
       "      <td>organic</td>\n",
       "      <td>2018</td>\n",
       "      <td>WestTexNewMexico</td>\n",
       "    </tr>\n",
       "    <tr>\n",
       "      <th>18247</th>\n",
       "      <td>10</td>\n",
       "      <td>2018-01-14</td>\n",
       "      <td>1.93</td>\n",
       "      <td>16205.22</td>\n",
       "      <td>1527.63</td>\n",
       "      <td>2981.04</td>\n",
       "      <td>727.01</td>\n",
       "      <td>10969.54</td>\n",
       "      <td>10919.54</td>\n",
       "      <td>50.00</td>\n",
       "      <td>0.0</td>\n",
       "      <td>organic</td>\n",
       "      <td>2018</td>\n",
       "      <td>WestTexNewMexico</td>\n",
       "    </tr>\n",
       "    <tr>\n",
       "      <th>18248</th>\n",
       "      <td>11</td>\n",
       "      <td>2018-01-07</td>\n",
       "      <td>1.62</td>\n",
       "      <td>17489.58</td>\n",
       "      <td>2894.77</td>\n",
       "      <td>2356.13</td>\n",
       "      <td>224.53</td>\n",
       "      <td>12014.15</td>\n",
       "      <td>11988.14</td>\n",
       "      <td>26.01</td>\n",
       "      <td>0.0</td>\n",
       "      <td>organic</td>\n",
       "      <td>2018</td>\n",
       "      <td>WestTexNewMexico</td>\n",
       "    </tr>\n",
       "  </tbody>\n",
       "</table>\n",
       "<p>18249 rows × 14 columns</p>\n",
       "</div>"
      ],
      "text/plain": [
       "       Unnamed: 0        Date  AveragePrice  Total Volume     4046       4225  \\\n",
       "0               0  2015-12-27          1.33      64236.62  1036.74   54454.85   \n",
       "1               1  2015-12-20          1.35      54876.98   674.28   44638.81   \n",
       "2               2  2015-12-13          0.93     118220.22   794.70  109149.67   \n",
       "3               3  2015-12-06          1.08      78992.15  1132.00   71976.41   \n",
       "4               4  2015-11-29          1.28      51039.60   941.48   43838.39   \n",
       "...           ...         ...           ...           ...      ...        ...   \n",
       "18244           7  2018-02-04          1.63      17074.83  2046.96    1529.20   \n",
       "18245           8  2018-01-28          1.71      13888.04  1191.70    3431.50   \n",
       "18246           9  2018-01-21          1.87      13766.76  1191.92    2452.79   \n",
       "18247          10  2018-01-14          1.93      16205.22  1527.63    2981.04   \n",
       "18248          11  2018-01-07          1.62      17489.58  2894.77    2356.13   \n",
       "\n",
       "         4770  Total Bags  Small Bags  Large Bags  XLarge Bags          type  \\\n",
       "0       48.16     8696.87     8603.62       93.25          0.0  conventional   \n",
       "1       58.33     9505.56     9408.07       97.49          0.0  conventional   \n",
       "2      130.50     8145.35     8042.21      103.14          0.0  conventional   \n",
       "3       72.58     5811.16     5677.40      133.76          0.0  conventional   \n",
       "4       75.78     6183.95     5986.26      197.69          0.0  conventional   \n",
       "...       ...         ...         ...         ...          ...           ...   \n",
       "18244    0.00    13498.67    13066.82      431.85          0.0       organic   \n",
       "18245    0.00     9264.84     8940.04      324.80          0.0       organic   \n",
       "18246  727.94     9394.11     9351.80       42.31          0.0       organic   \n",
       "18247  727.01    10969.54    10919.54       50.00          0.0       organic   \n",
       "18248  224.53    12014.15    11988.14       26.01          0.0       organic   \n",
       "\n",
       "       year            region  \n",
       "0      2015            Albany  \n",
       "1      2015            Albany  \n",
       "2      2015            Albany  \n",
       "3      2015            Albany  \n",
       "4      2015            Albany  \n",
       "...     ...               ...  \n",
       "18244  2018  WestTexNewMexico  \n",
       "18245  2018  WestTexNewMexico  \n",
       "18246  2018  WestTexNewMexico  \n",
       "18247  2018  WestTexNewMexico  \n",
       "18248  2018  WestTexNewMexico  \n",
       "\n",
       "[18249 rows x 14 columns]"
      ]
     },
     "execution_count": 2,
     "metadata": {},
     "output_type": "execute_result"
    }
   ],
   "source": [
    "df = pd.read_csv('C:/Users/love todawat/Downloads/avocado.csv (1).zip')\n",
    "df"
   ]
  },
  {
   "cell_type": "code",
   "execution_count": 3,
   "id": "060db007",
   "metadata": {},
   "outputs": [
    {
     "data": {
      "text/plain": [
       "(18249, 14)"
      ]
     },
     "execution_count": 3,
     "metadata": {},
     "output_type": "execute_result"
    }
   ],
   "source": [
    "df.shape"
   ]
  },
  {
   "cell_type": "code",
   "execution_count": 4,
   "id": "b97b617c",
   "metadata": {},
   "outputs": [
    {
     "data": {
      "text/plain": [
       "Unnamed: 0        int64\n",
       "Date             object\n",
       "AveragePrice    float64\n",
       "Total Volume    float64\n",
       "4046            float64\n",
       "4225            float64\n",
       "4770            float64\n",
       "Total Bags      float64\n",
       "Small Bags      float64\n",
       "Large Bags      float64\n",
       "XLarge Bags     float64\n",
       "type             object\n",
       "year              int64\n",
       "region           object\n",
       "dtype: object"
      ]
     },
     "execution_count": 4,
     "metadata": {},
     "output_type": "execute_result"
    }
   ],
   "source": [
    "df.dtypes"
   ]
  },
  {
   "cell_type": "code",
   "execution_count": 5,
   "id": "06242221",
   "metadata": {},
   "outputs": [
    {
     "name": "stdout",
     "output_type": "stream",
     "text": [
      "<class 'pandas.core.frame.DataFrame'>\n",
      "RangeIndex: 18249 entries, 0 to 18248\n",
      "Data columns (total 14 columns):\n",
      " #   Column        Non-Null Count  Dtype  \n",
      "---  ------        --------------  -----  \n",
      " 0   Unnamed: 0    18249 non-null  int64  \n",
      " 1   Date          18249 non-null  object \n",
      " 2   AveragePrice  18249 non-null  float64\n",
      " 3   Total Volume  18249 non-null  float64\n",
      " 4   4046          18249 non-null  float64\n",
      " 5   4225          18249 non-null  float64\n",
      " 6   4770          18249 non-null  float64\n",
      " 7   Total Bags    18249 non-null  float64\n",
      " 8   Small Bags    18249 non-null  float64\n",
      " 9   Large Bags    18249 non-null  float64\n",
      " 10  XLarge Bags   18249 non-null  float64\n",
      " 11  type          18249 non-null  object \n",
      " 12  year          18249 non-null  int64  \n",
      " 13  region        18249 non-null  object \n",
      "dtypes: float64(9), int64(2), object(3)\n",
      "memory usage: 1.9+ MB\n"
     ]
    }
   ],
   "source": [
    "df.info()"
   ]
  },
  {
   "cell_type": "code",
   "execution_count": 6,
   "id": "b1d3b865",
   "metadata": {},
   "outputs": [
    {
     "data": {
      "text/html": [
       "<div>\n",
       "<style scoped>\n",
       "    .dataframe tbody tr th:only-of-type {\n",
       "        vertical-align: middle;\n",
       "    }\n",
       "\n",
       "    .dataframe tbody tr th {\n",
       "        vertical-align: top;\n",
       "    }\n",
       "\n",
       "    .dataframe thead th {\n",
       "        text-align: right;\n",
       "    }\n",
       "</style>\n",
       "<table border=\"1\" class=\"dataframe\">\n",
       "  <thead>\n",
       "    <tr style=\"text-align: right;\">\n",
       "      <th></th>\n",
       "      <th>Unnamed: 0</th>\n",
       "      <th>AveragePrice</th>\n",
       "      <th>Total Volume</th>\n",
       "      <th>4046</th>\n",
       "      <th>4225</th>\n",
       "      <th>4770</th>\n",
       "      <th>Total Bags</th>\n",
       "      <th>Small Bags</th>\n",
       "      <th>Large Bags</th>\n",
       "      <th>XLarge Bags</th>\n",
       "      <th>year</th>\n",
       "    </tr>\n",
       "  </thead>\n",
       "  <tbody>\n",
       "    <tr>\n",
       "      <th>count</th>\n",
       "      <td>18249.000000</td>\n",
       "      <td>18249.000000</td>\n",
       "      <td>1.824900e+04</td>\n",
       "      <td>1.824900e+04</td>\n",
       "      <td>1.824900e+04</td>\n",
       "      <td>1.824900e+04</td>\n",
       "      <td>1.824900e+04</td>\n",
       "      <td>1.824900e+04</td>\n",
       "      <td>1.824900e+04</td>\n",
       "      <td>18249.000000</td>\n",
       "      <td>18249.000000</td>\n",
       "    </tr>\n",
       "    <tr>\n",
       "      <th>mean</th>\n",
       "      <td>24.232232</td>\n",
       "      <td>1.405978</td>\n",
       "      <td>8.506440e+05</td>\n",
       "      <td>2.930084e+05</td>\n",
       "      <td>2.951546e+05</td>\n",
       "      <td>2.283974e+04</td>\n",
       "      <td>2.396392e+05</td>\n",
       "      <td>1.821947e+05</td>\n",
       "      <td>5.433809e+04</td>\n",
       "      <td>3106.426507</td>\n",
       "      <td>2016.147899</td>\n",
       "    </tr>\n",
       "    <tr>\n",
       "      <th>std</th>\n",
       "      <td>15.481045</td>\n",
       "      <td>0.402677</td>\n",
       "      <td>3.453545e+06</td>\n",
       "      <td>1.264989e+06</td>\n",
       "      <td>1.204120e+06</td>\n",
       "      <td>1.074641e+05</td>\n",
       "      <td>9.862424e+05</td>\n",
       "      <td>7.461785e+05</td>\n",
       "      <td>2.439660e+05</td>\n",
       "      <td>17692.894652</td>\n",
       "      <td>0.939938</td>\n",
       "    </tr>\n",
       "    <tr>\n",
       "      <th>min</th>\n",
       "      <td>0.000000</td>\n",
       "      <td>0.440000</td>\n",
       "      <td>8.456000e+01</td>\n",
       "      <td>0.000000e+00</td>\n",
       "      <td>0.000000e+00</td>\n",
       "      <td>0.000000e+00</td>\n",
       "      <td>0.000000e+00</td>\n",
       "      <td>0.000000e+00</td>\n",
       "      <td>0.000000e+00</td>\n",
       "      <td>0.000000</td>\n",
       "      <td>2015.000000</td>\n",
       "    </tr>\n",
       "    <tr>\n",
       "      <th>25%</th>\n",
       "      <td>10.000000</td>\n",
       "      <td>1.100000</td>\n",
       "      <td>1.083858e+04</td>\n",
       "      <td>8.540700e+02</td>\n",
       "      <td>3.008780e+03</td>\n",
       "      <td>0.000000e+00</td>\n",
       "      <td>5.088640e+03</td>\n",
       "      <td>2.849420e+03</td>\n",
       "      <td>1.274700e+02</td>\n",
       "      <td>0.000000</td>\n",
       "      <td>2015.000000</td>\n",
       "    </tr>\n",
       "    <tr>\n",
       "      <th>50%</th>\n",
       "      <td>24.000000</td>\n",
       "      <td>1.370000</td>\n",
       "      <td>1.073768e+05</td>\n",
       "      <td>8.645300e+03</td>\n",
       "      <td>2.906102e+04</td>\n",
       "      <td>1.849900e+02</td>\n",
       "      <td>3.974383e+04</td>\n",
       "      <td>2.636282e+04</td>\n",
       "      <td>2.647710e+03</td>\n",
       "      <td>0.000000</td>\n",
       "      <td>2016.000000</td>\n",
       "    </tr>\n",
       "    <tr>\n",
       "      <th>75%</th>\n",
       "      <td>38.000000</td>\n",
       "      <td>1.660000</td>\n",
       "      <td>4.329623e+05</td>\n",
       "      <td>1.110202e+05</td>\n",
       "      <td>1.502069e+05</td>\n",
       "      <td>6.243420e+03</td>\n",
       "      <td>1.107834e+05</td>\n",
       "      <td>8.333767e+04</td>\n",
       "      <td>2.202925e+04</td>\n",
       "      <td>132.500000</td>\n",
       "      <td>2017.000000</td>\n",
       "    </tr>\n",
       "    <tr>\n",
       "      <th>max</th>\n",
       "      <td>52.000000</td>\n",
       "      <td>3.250000</td>\n",
       "      <td>6.250565e+07</td>\n",
       "      <td>2.274362e+07</td>\n",
       "      <td>2.047057e+07</td>\n",
       "      <td>2.546439e+06</td>\n",
       "      <td>1.937313e+07</td>\n",
       "      <td>1.338459e+07</td>\n",
       "      <td>5.719097e+06</td>\n",
       "      <td>551693.650000</td>\n",
       "      <td>2018.000000</td>\n",
       "    </tr>\n",
       "  </tbody>\n",
       "</table>\n",
       "</div>"
      ],
      "text/plain": [
       "         Unnamed: 0  AveragePrice  Total Volume          4046          4225  \\\n",
       "count  18249.000000  18249.000000  1.824900e+04  1.824900e+04  1.824900e+04   \n",
       "mean      24.232232      1.405978  8.506440e+05  2.930084e+05  2.951546e+05   \n",
       "std       15.481045      0.402677  3.453545e+06  1.264989e+06  1.204120e+06   \n",
       "min        0.000000      0.440000  8.456000e+01  0.000000e+00  0.000000e+00   \n",
       "25%       10.000000      1.100000  1.083858e+04  8.540700e+02  3.008780e+03   \n",
       "50%       24.000000      1.370000  1.073768e+05  8.645300e+03  2.906102e+04   \n",
       "75%       38.000000      1.660000  4.329623e+05  1.110202e+05  1.502069e+05   \n",
       "max       52.000000      3.250000  6.250565e+07  2.274362e+07  2.047057e+07   \n",
       "\n",
       "               4770    Total Bags    Small Bags    Large Bags    XLarge Bags  \\\n",
       "count  1.824900e+04  1.824900e+04  1.824900e+04  1.824900e+04   18249.000000   \n",
       "mean   2.283974e+04  2.396392e+05  1.821947e+05  5.433809e+04    3106.426507   \n",
       "std    1.074641e+05  9.862424e+05  7.461785e+05  2.439660e+05   17692.894652   \n",
       "min    0.000000e+00  0.000000e+00  0.000000e+00  0.000000e+00       0.000000   \n",
       "25%    0.000000e+00  5.088640e+03  2.849420e+03  1.274700e+02       0.000000   \n",
       "50%    1.849900e+02  3.974383e+04  2.636282e+04  2.647710e+03       0.000000   \n",
       "75%    6.243420e+03  1.107834e+05  8.333767e+04  2.202925e+04     132.500000   \n",
       "max    2.546439e+06  1.937313e+07  1.338459e+07  5.719097e+06  551693.650000   \n",
       "\n",
       "               year  \n",
       "count  18249.000000  \n",
       "mean    2016.147899  \n",
       "std        0.939938  \n",
       "min     2015.000000  \n",
       "25%     2015.000000  \n",
       "50%     2016.000000  \n",
       "75%     2017.000000  \n",
       "max     2018.000000  "
      ]
     },
     "execution_count": 6,
     "metadata": {},
     "output_type": "execute_result"
    }
   ],
   "source": [
    "df.describe()"
   ]
  },
  {
   "cell_type": "code",
   "execution_count": 7,
   "id": "7ba31a35",
   "metadata": {},
   "outputs": [
    {
     "data": {
      "text/plain": [
       "Unnamed: 0      0\n",
       "Date            0\n",
       "AveragePrice    0\n",
       "Total Volume    0\n",
       "4046            0\n",
       "4225            0\n",
       "4770            0\n",
       "Total Bags      0\n",
       "Small Bags      0\n",
       "Large Bags      0\n",
       "XLarge Bags     0\n",
       "type            0\n",
       "year            0\n",
       "region          0\n",
       "dtype: int64"
      ]
     },
     "execution_count": 7,
     "metadata": {},
     "output_type": "execute_result"
    }
   ],
   "source": [
    "df.isnull().sum()"
   ]
  },
  {
   "cell_type": "code",
   "execution_count": 8,
   "id": "afde7ea7",
   "metadata": {},
   "outputs": [],
   "source": [
    "df.rename(columns={'4046': 'Small/Medium Hass Size'}, inplace = True)\n",
    "df.rename(columns={'4225': 'Large Hass Size'}, inplace = True)\n",
    "df.rename(columns={'4770': 'XLarge Hass Size'}, inplace = True)"
   ]
  },
  {
   "cell_type": "code",
   "execution_count": 9,
   "id": "883d1c34",
   "metadata": {},
   "outputs": [
    {
     "name": "stdout",
     "output_type": "stream",
     "text": [
      "<class 'pandas.core.frame.DataFrame'>\n",
      "RangeIndex: 18249 entries, 0 to 18248\n",
      "Data columns (total 14 columns):\n",
      " #   Column                  Non-Null Count  Dtype  \n",
      "---  ------                  --------------  -----  \n",
      " 0   Unnamed: 0              18249 non-null  int64  \n",
      " 1   Date                    18249 non-null  object \n",
      " 2   AveragePrice            18249 non-null  float64\n",
      " 3   Total Volume            18249 non-null  float64\n",
      " 4   Small/Medium Hass Size  18249 non-null  float64\n",
      " 5   Large Hass Size         18249 non-null  float64\n",
      " 6   XLarge Hass Size        18249 non-null  float64\n",
      " 7   Total Bags              18249 non-null  float64\n",
      " 8   Small Bags              18249 non-null  float64\n",
      " 9   Large Bags              18249 non-null  float64\n",
      " 10  XLarge Bags             18249 non-null  float64\n",
      " 11  type                    18249 non-null  object \n",
      " 12  year                    18249 non-null  int64  \n",
      " 13  region                  18249 non-null  object \n",
      "dtypes: float64(9), int64(2), object(3)\n",
      "memory usage: 1.9+ MB\n"
     ]
    }
   ],
   "source": [
    "df.info()"
   ]
  },
  {
   "cell_type": "code",
   "execution_count": 10,
   "id": "86a369b8",
   "metadata": {},
   "outputs": [
    {
     "data": {
      "text/html": [
       "<div>\n",
       "<style scoped>\n",
       "    .dataframe tbody tr th:only-of-type {\n",
       "        vertical-align: middle;\n",
       "    }\n",
       "\n",
       "    .dataframe tbody tr th {\n",
       "        vertical-align: top;\n",
       "    }\n",
       "\n",
       "    .dataframe thead th {\n",
       "        text-align: right;\n",
       "    }\n",
       "</style>\n",
       "<table border=\"1\" class=\"dataframe\">\n",
       "  <thead>\n",
       "    <tr style=\"text-align: right;\">\n",
       "      <th></th>\n",
       "      <th>Unnamed: 0</th>\n",
       "      <th>Date</th>\n",
       "      <th>AveragePrice</th>\n",
       "      <th>Total Volume</th>\n",
       "      <th>Small/Medium Hass Size</th>\n",
       "      <th>Large Hass Size</th>\n",
       "      <th>XLarge Hass Size</th>\n",
       "      <th>Total Bags</th>\n",
       "      <th>Small Bags</th>\n",
       "      <th>Large Bags</th>\n",
       "      <th>XLarge Bags</th>\n",
       "      <th>type</th>\n",
       "      <th>year</th>\n",
       "      <th>region</th>\n",
       "    </tr>\n",
       "  </thead>\n",
       "  <tbody>\n",
       "    <tr>\n",
       "      <th>0</th>\n",
       "      <td>0</td>\n",
       "      <td>2015-12-27</td>\n",
       "      <td>1.33</td>\n",
       "      <td>64236.62</td>\n",
       "      <td>1036.74</td>\n",
       "      <td>54454.85</td>\n",
       "      <td>48.16</td>\n",
       "      <td>8696.87</td>\n",
       "      <td>8603.62</td>\n",
       "      <td>93.25</td>\n",
       "      <td>0.0</td>\n",
       "      <td>conventional</td>\n",
       "      <td>2015</td>\n",
       "      <td>Albany</td>\n",
       "    </tr>\n",
       "    <tr>\n",
       "      <th>1</th>\n",
       "      <td>1</td>\n",
       "      <td>2015-12-20</td>\n",
       "      <td>1.35</td>\n",
       "      <td>54876.98</td>\n",
       "      <td>674.28</td>\n",
       "      <td>44638.81</td>\n",
       "      <td>58.33</td>\n",
       "      <td>9505.56</td>\n",
       "      <td>9408.07</td>\n",
       "      <td>97.49</td>\n",
       "      <td>0.0</td>\n",
       "      <td>conventional</td>\n",
       "      <td>2015</td>\n",
       "      <td>Albany</td>\n",
       "    </tr>\n",
       "    <tr>\n",
       "      <th>2</th>\n",
       "      <td>2</td>\n",
       "      <td>2015-12-13</td>\n",
       "      <td>0.93</td>\n",
       "      <td>118220.22</td>\n",
       "      <td>794.70</td>\n",
       "      <td>109149.67</td>\n",
       "      <td>130.50</td>\n",
       "      <td>8145.35</td>\n",
       "      <td>8042.21</td>\n",
       "      <td>103.14</td>\n",
       "      <td>0.0</td>\n",
       "      <td>conventional</td>\n",
       "      <td>2015</td>\n",
       "      <td>Albany</td>\n",
       "    </tr>\n",
       "    <tr>\n",
       "      <th>3</th>\n",
       "      <td>3</td>\n",
       "      <td>2015-12-06</td>\n",
       "      <td>1.08</td>\n",
       "      <td>78992.15</td>\n",
       "      <td>1132.00</td>\n",
       "      <td>71976.41</td>\n",
       "      <td>72.58</td>\n",
       "      <td>5811.16</td>\n",
       "      <td>5677.40</td>\n",
       "      <td>133.76</td>\n",
       "      <td>0.0</td>\n",
       "      <td>conventional</td>\n",
       "      <td>2015</td>\n",
       "      <td>Albany</td>\n",
       "    </tr>\n",
       "    <tr>\n",
       "      <th>4</th>\n",
       "      <td>4</td>\n",
       "      <td>2015-11-29</td>\n",
       "      <td>1.28</td>\n",
       "      <td>51039.60</td>\n",
       "      <td>941.48</td>\n",
       "      <td>43838.39</td>\n",
       "      <td>75.78</td>\n",
       "      <td>6183.95</td>\n",
       "      <td>5986.26</td>\n",
       "      <td>197.69</td>\n",
       "      <td>0.0</td>\n",
       "      <td>conventional</td>\n",
       "      <td>2015</td>\n",
       "      <td>Albany</td>\n",
       "    </tr>\n",
       "    <tr>\n",
       "      <th>5</th>\n",
       "      <td>5</td>\n",
       "      <td>2015-11-22</td>\n",
       "      <td>1.26</td>\n",
       "      <td>55979.78</td>\n",
       "      <td>1184.27</td>\n",
       "      <td>48067.99</td>\n",
       "      <td>43.61</td>\n",
       "      <td>6683.91</td>\n",
       "      <td>6556.47</td>\n",
       "      <td>127.44</td>\n",
       "      <td>0.0</td>\n",
       "      <td>conventional</td>\n",
       "      <td>2015</td>\n",
       "      <td>Albany</td>\n",
       "    </tr>\n",
       "    <tr>\n",
       "      <th>6</th>\n",
       "      <td>6</td>\n",
       "      <td>2015-11-15</td>\n",
       "      <td>0.99</td>\n",
       "      <td>83453.76</td>\n",
       "      <td>1368.92</td>\n",
       "      <td>73672.72</td>\n",
       "      <td>93.26</td>\n",
       "      <td>8318.86</td>\n",
       "      <td>8196.81</td>\n",
       "      <td>122.05</td>\n",
       "      <td>0.0</td>\n",
       "      <td>conventional</td>\n",
       "      <td>2015</td>\n",
       "      <td>Albany</td>\n",
       "    </tr>\n",
       "    <tr>\n",
       "      <th>7</th>\n",
       "      <td>7</td>\n",
       "      <td>2015-11-08</td>\n",
       "      <td>0.98</td>\n",
       "      <td>109428.33</td>\n",
       "      <td>703.75</td>\n",
       "      <td>101815.36</td>\n",
       "      <td>80.00</td>\n",
       "      <td>6829.22</td>\n",
       "      <td>6266.85</td>\n",
       "      <td>562.37</td>\n",
       "      <td>0.0</td>\n",
       "      <td>conventional</td>\n",
       "      <td>2015</td>\n",
       "      <td>Albany</td>\n",
       "    </tr>\n",
       "    <tr>\n",
       "      <th>8</th>\n",
       "      <td>8</td>\n",
       "      <td>2015-11-01</td>\n",
       "      <td>1.02</td>\n",
       "      <td>99811.42</td>\n",
       "      <td>1022.15</td>\n",
       "      <td>87315.57</td>\n",
       "      <td>85.34</td>\n",
       "      <td>11388.36</td>\n",
       "      <td>11104.53</td>\n",
       "      <td>283.83</td>\n",
       "      <td>0.0</td>\n",
       "      <td>conventional</td>\n",
       "      <td>2015</td>\n",
       "      <td>Albany</td>\n",
       "    </tr>\n",
       "    <tr>\n",
       "      <th>9</th>\n",
       "      <td>9</td>\n",
       "      <td>2015-10-25</td>\n",
       "      <td>1.07</td>\n",
       "      <td>74338.76</td>\n",
       "      <td>842.40</td>\n",
       "      <td>64757.44</td>\n",
       "      <td>113.00</td>\n",
       "      <td>8625.92</td>\n",
       "      <td>8061.47</td>\n",
       "      <td>564.45</td>\n",
       "      <td>0.0</td>\n",
       "      <td>conventional</td>\n",
       "      <td>2015</td>\n",
       "      <td>Albany</td>\n",
       "    </tr>\n",
       "  </tbody>\n",
       "</table>\n",
       "</div>"
      ],
      "text/plain": [
       "   Unnamed: 0        Date  AveragePrice  Total Volume  Small/Medium Hass Size  \\\n",
       "0           0  2015-12-27          1.33      64236.62                 1036.74   \n",
       "1           1  2015-12-20          1.35      54876.98                  674.28   \n",
       "2           2  2015-12-13          0.93     118220.22                  794.70   \n",
       "3           3  2015-12-06          1.08      78992.15                 1132.00   \n",
       "4           4  2015-11-29          1.28      51039.60                  941.48   \n",
       "5           5  2015-11-22          1.26      55979.78                 1184.27   \n",
       "6           6  2015-11-15          0.99      83453.76                 1368.92   \n",
       "7           7  2015-11-08          0.98     109428.33                  703.75   \n",
       "8           8  2015-11-01          1.02      99811.42                 1022.15   \n",
       "9           9  2015-10-25          1.07      74338.76                  842.40   \n",
       "\n",
       "   Large Hass Size  XLarge Hass Size  Total Bags  Small Bags  Large Bags  \\\n",
       "0         54454.85             48.16     8696.87     8603.62       93.25   \n",
       "1         44638.81             58.33     9505.56     9408.07       97.49   \n",
       "2        109149.67            130.50     8145.35     8042.21      103.14   \n",
       "3         71976.41             72.58     5811.16     5677.40      133.76   \n",
       "4         43838.39             75.78     6183.95     5986.26      197.69   \n",
       "5         48067.99             43.61     6683.91     6556.47      127.44   \n",
       "6         73672.72             93.26     8318.86     8196.81      122.05   \n",
       "7        101815.36             80.00     6829.22     6266.85      562.37   \n",
       "8         87315.57             85.34    11388.36    11104.53      283.83   \n",
       "9         64757.44            113.00     8625.92     8061.47      564.45   \n",
       "\n",
       "   XLarge Bags          type  year  region  \n",
       "0          0.0  conventional  2015  Albany  \n",
       "1          0.0  conventional  2015  Albany  \n",
       "2          0.0  conventional  2015  Albany  \n",
       "3          0.0  conventional  2015  Albany  \n",
       "4          0.0  conventional  2015  Albany  \n",
       "5          0.0  conventional  2015  Albany  \n",
       "6          0.0  conventional  2015  Albany  \n",
       "7          0.0  conventional  2015  Albany  \n",
       "8          0.0  conventional  2015  Albany  \n",
       "9          0.0  conventional  2015  Albany  "
      ]
     },
     "execution_count": 10,
     "metadata": {},
     "output_type": "execute_result"
    }
   ],
   "source": [
    "df.head(10)"
   ]
  },
  {
   "cell_type": "code",
   "execution_count": 11,
   "id": "5fd958a4",
   "metadata": {},
   "outputs": [
    {
     "name": "stdout",
     "output_type": "stream",
     "text": [
      "<class 'pandas.core.frame.DataFrame'>\n",
      "RangeIndex: 18249 entries, 0 to 18248\n",
      "Data columns (total 12 columns):\n",
      " #   Column                  Non-Null Count  Dtype  \n",
      "---  ------                  --------------  -----  \n",
      " 0   AveragePrice            18249 non-null  float64\n",
      " 1   Total Volume            18249 non-null  float64\n",
      " 2   Small/Medium Hass Size  18249 non-null  float64\n",
      " 3   Large Hass Size         18249 non-null  float64\n",
      " 4   XLarge Hass Size        18249 non-null  float64\n",
      " 5   Total Bags              18249 non-null  float64\n",
      " 6   Small Bags              18249 non-null  float64\n",
      " 7   Large Bags              18249 non-null  float64\n",
      " 8   XLarge Bags             18249 non-null  float64\n",
      " 9   type                    18249 non-null  object \n",
      " 10  year                    18249 non-null  int64  \n",
      " 11  region                  18249 non-null  object \n",
      "dtypes: float64(9), int64(1), object(2)\n",
      "memory usage: 1.7+ MB\n"
     ]
    }
   ],
   "source": [
    "df = df.drop(['Date', 'Unnamed: 0'], axis = 1)\n",
    "\n",
    "df.info()\n"
   ]
  },
  {
   "cell_type": "code",
   "execution_count": 12,
   "id": "add48e0a",
   "metadata": {},
   "outputs": [
    {
     "name": "stdout",
     "output_type": "stream",
     "text": [
      "      AveragePrice  Total Volume  Small/Medium Hass Size  Large Hass Size  \\\n",
      "9363          2.00       3641.00                   67.78          1199.74   \n",
      "3689          1.15     251772.19                37242.50        127825.35   \n",
      "3267          1.15     780951.86                32414.21        522790.14   \n",
      "\n",
      "      XLarge Hass Size  Total Bags  Small Bags  Large Bags  XLarge Bags  \\\n",
      "9363              0.00     2373.48     2373.48        0.00          0.0   \n",
      "3689            215.42    86488.92    85284.00     1204.92          0.0   \n",
      "3267         133067.18    92680.33    90777.56     1902.77          0.0   \n",
      "\n",
      "              type  year              region  conventional  organic  \n",
      "9363       organic  2015              Boston             0        1  \n",
      "3689  conventional  2016  HarrisburgScranton             1        0  \n",
      "3267  conventional  2016             Chicago             1        0  \n"
     ]
    }
   ],
   "source": [
    "avo_type = pd.get_dummies(df['type'])\n",
    "\n",
    "df = pd.concat([df, avo_type], axis=1)\n",
    "print(df.sample(3))"
   ]
  },
  {
   "cell_type": "code",
   "execution_count": 13,
   "id": "b82b7b57",
   "metadata": {},
   "outputs": [
    {
     "name": "stdout",
     "output_type": "stream",
     "text": [
      "<class 'pandas.core.frame.DataFrame'>\n",
      "RangeIndex: 18249 entries, 0 to 18248\n",
      "Data columns (total 12 columns):\n",
      " #   Column                  Non-Null Count  Dtype  \n",
      "---  ------                  --------------  -----  \n",
      " 0   AveragePrice            18249 non-null  float64\n",
      " 1   Total Volume            18249 non-null  float64\n",
      " 2   Small/Medium Hass Size  18249 non-null  float64\n",
      " 3   Large Hass Size         18249 non-null  float64\n",
      " 4   XLarge Hass Size        18249 non-null  float64\n",
      " 5   Total Bags              18249 non-null  float64\n",
      " 6   Small Bags              18249 non-null  float64\n",
      " 7   Large Bags              18249 non-null  float64\n",
      " 8   XLarge Bags             18249 non-null  float64\n",
      " 9   year                    18249 non-null  int64  \n",
      " 10  conventional            18249 non-null  uint8  \n",
      " 11  organic                 18249 non-null  uint8  \n",
      "dtypes: float64(9), int64(1), uint8(2)\n",
      "memory usage: 1.4 MB\n"
     ]
    }
   ],
   "source": [
    "df = df.drop(['type', 'region'], axis = 1)\n",
    "df.info()"
   ]
  },
  {
   "cell_type": "code",
   "execution_count": 14,
   "id": "45080577",
   "metadata": {},
   "outputs": [
    {
     "data": {
      "text/plain": [
       "2358     1.0\n",
       "10200    0.0\n",
       "4386     1.0\n",
       "Name: conventional, dtype: float64"
      ]
     },
     "execution_count": 14,
     "metadata": {},
     "output_type": "execute_result"
    }
   ],
   "source": [
    "df['conventional'] = df['conventional'].astype('float64')\n",
    "df.dtypes\n",
    "df['conventional'] = df['conventional']\n",
    "df['conventional'].sample(3)"
   ]
  },
  {
   "cell_type": "code",
   "execution_count": 15,
   "id": "746f4935",
   "metadata": {},
   "outputs": [
    {
     "data": {
      "text/plain": [
       "9058    0.0\n",
       "2036    0.0\n",
       "4433    0.0\n",
       "Name: organic, dtype: float64"
      ]
     },
     "execution_count": 15,
     "metadata": {},
     "output_type": "execute_result"
    }
   ],
   "source": [
    "df['organic'] = df['organic'].astype('float64')\n",
    "df.dtypes\n",
    "df['organic'] = df['organic']\n",
    "df['organic'].sample(3)"
   ]
  },
  {
   "cell_type": "code",
   "execution_count": 16,
   "id": "6b1f25e9",
   "metadata": {},
   "outputs": [
    {
     "data": {
      "image/png": "[encoded data removed]",
      "text/plain": [
       "<Figure size 432x288 with 1 Axes>"
      ]
     },
     "metadata": {
      "needs_background": "light"
     },
     "output_type": "display_data"
    }
   ],
   "source": [
    "df[\"AveragePrice\"].hist(bins=50)\n",
    "plt.show()"
   ]
  },
  {
   "cell_type": "code",
   "execution_count": 17,
   "id": "c4926607",
   "metadata": {},
   "outputs": [
    {
     "data": {
      "image/png": "[encoded data removed]",
      "text/plain": [
       "<Figure size 1440x1080 with 12 Axes>"
      ]
     },
     "metadata": {
      "needs_background": "light"
     },
     "output_type": "display_data"
    }
   ],
   "source": [
    "df.hist(bins=50, figsize=(20,15))\n",
    "plt.show()"
   ]
  },
  {
   "cell_type": "code",
   "execution_count": 18,
   "id": "6aa3d700",
   "metadata": {},
   "outputs": [
    {
     "data": {
      "image/png": "[encoded data removed]",
      "text/plain": [
       "<Figure size 432x288 with 1 Axes>"
      ]
     },
     "metadata": {
      "needs_background": "light"
     },
     "output_type": "display_data"
    }
   ],
   "source": [
    "plt.hist(df['AveragePrice'], bins = 30)\n",
    "plt.show()\n"
   ]
  },
  {
   "cell_type": "code",
   "execution_count": 19,
   "id": "08b93856",
   "metadata": {},
   "outputs": [
    {
     "data": {
      "image/png": "[encoded data removed]",
      "text/plain": [
       "<Figure size 432x288 with 1 Axes>"
      ]
     },
     "metadata": {
      "needs_background": "light"
     },
     "output_type": "display_data"
    }
   ],
   "source": [
    "plt.plot(df['AveragePrice'])\n",
    "plt.title('Average Price')\n",
    "plt.xlabel('Total Bags')\n",
    "plt.ylabel('Average Price')\n",
    "plt.show()\n"
   ]
  },
  {
   "cell_type": "code",
   "execution_count": 20,
   "id": "df5012d5",
   "metadata": {},
   "outputs": [
    {
     "data": {
      "image/png": "[encoded data removed]",
      "text/plain": [
       "<Figure size 432x288 with 1 Axes>"
      ]
     },
     "metadata": {
      "needs_background": "light"
     },
     "output_type": "display_data"
    }
   ],
   "source": [
    "plt.plot(df['Total Bags'])\n",
    "plt.title('Total Bags')\n",
    "plt.xlabel('Average Price')\n",
    "plt.ylabel('Total Bags')\n",
    "plt.show()"
   ]
  },
  {
   "cell_type": "code",
   "execution_count": 22,
   "id": "038350b8",
   "metadata": {},
   "outputs": [
    {
     "data": {
      "image/png": "[encoded data removed]",
      "text/plain": [
       "<Figure size 432x288 with 1 Axes>"
      ]
     },
     "metadata": {
      "needs_background": "light"
     },
     "output_type": "display_data"
    }
   ],
   "source": [
    "plt.plot(df['Small Bags'])\n",
    "plt.title('Small Bags')\n",
    "plt.xlabel('Average Price')\n",
    "plt.ylabel('Small Bags')\n",
    "plt.show()"
   ]
  },
  {
   "cell_type": "code",
   "execution_count": 25,
   "id": "0fd26a87",
   "metadata": {},
   "outputs": [
    {
     "data": {
      "image/png": "[encoded data removed]",
      "text/plain": [
       "<Figure size 432x288 with 1 Axes>"
      ]
     },
     "metadata": {
      "needs_background": "light"
     },
     "output_type": "display_data"
    }
   ],
   "source": [
    "plt.plot(df['Large Bags'])\n",
    "plt.title('Small Bags')\n",
    "plt.xlabel('Average Price')\n",
    "plt.ylabel('Small Bags')\n",
    "plt.show()"
   ]
  },
  {
   "cell_type": "code",
   "execution_count": 26,
   "id": "56b6a7b6",
   "metadata": {},
   "outputs": [
    {
     "data": {
      "image/png": "[encoded data removed]",
      "text/plain": [
       "<Figure size 432x288 with 1 Axes>"
      ]
     },
     "metadata": {
      "needs_background": "light"
     },
     "output_type": "display_data"
    }
   ],
   "source": [
    "plt.plot(df['XLarge Bags'])\n",
    "plt.title('XLarge Bags')\n",
    "plt.xlabel('Average Price')\n",
    "plt.ylabel('XLarge Bags')\n",
    "plt.show()\n"
   ]
  },
  {
   "cell_type": "code",
   "execution_count": 27,
   "id": "30af92d5",
   "metadata": {},
   "outputs": [
    {
     "data": {
      "image/png": "[encoded data removed]",
      "text/plain": [
       "<Figure size 432x288 with 1 Axes>"
      ]
     },
     "metadata": {
      "needs_background": "light"
     },
     "output_type": "display_data"
    }
   ],
   "source": [
    "plt.plot(df['XLarge Bags'])\n",
    "plt.title('XLarge Bags')\n",
    "plt.xlabel('Average Price')\n",
    "plt.ylabel('XLarge Bags')\n",
    "plt.show()\n"
   ]
  },
  {
   "cell_type": "code",
   "execution_count": 28,
   "id": "582f358b",
   "metadata": {},
   "outputs": [
    {
     "data": {
      "text/html": [
       "<div>\n",
       "<style scoped>\n",
       "    .dataframe tbody tr th:only-of-type {\n",
       "        vertical-align: middle;\n",
       "    }\n",
       "\n",
       "    .dataframe tbody tr th {\n",
       "        vertical-align: top;\n",
       "    }\n",
       "\n",
       "    .dataframe thead th {\n",
       "        text-align: right;\n",
       "    }\n",
       "</style>\n",
       "<table border=\"1\" class=\"dataframe\">\n",
       "  <thead>\n",
       "    <tr style=\"text-align: right;\">\n",
       "      <th></th>\n",
       "      <th>AveragePrice</th>\n",
       "      <th>Total Volume</th>\n",
       "      <th>Small/Medium Hass Size</th>\n",
       "      <th>Large Hass Size</th>\n",
       "      <th>XLarge Hass Size</th>\n",
       "      <th>Total Bags</th>\n",
       "      <th>Small Bags</th>\n",
       "      <th>Large Bags</th>\n",
       "      <th>XLarge Bags</th>\n",
       "      <th>year</th>\n",
       "      <th>conventional</th>\n",
       "      <th>organic</th>\n",
       "    </tr>\n",
       "  </thead>\n",
       "  <tbody>\n",
       "    <tr>\n",
       "      <th>8604</th>\n",
       "      <td>0.82</td>\n",
       "      <td>218329.70</td>\n",
       "      <td>79239.58</td>\n",
       "      <td>26356.05</td>\n",
       "      <td>2998.74</td>\n",
       "      <td>109735.33</td>\n",
       "      <td>73393.34</td>\n",
       "      <td>34338.97</td>\n",
       "      <td>2003.02</td>\n",
       "      <td>2018</td>\n",
       "      <td>1.0</td>\n",
       "      <td>0.0</td>\n",
       "    </tr>\n",
       "    <tr>\n",
       "      <th>2608</th>\n",
       "      <td>0.97</td>\n",
       "      <td>391514.43</td>\n",
       "      <td>228324.13</td>\n",
       "      <td>72749.38</td>\n",
       "      <td>100.62</td>\n",
       "      <td>90340.30</td>\n",
       "      <td>44449.47</td>\n",
       "      <td>45890.83</td>\n",
       "      <td>0.00</td>\n",
       "      <td>2015</td>\n",
       "      <td>1.0</td>\n",
       "      <td>0.0</td>\n",
       "    </tr>\n",
       "    <tr>\n",
       "      <th>14581</th>\n",
       "      <td>1.44</td>\n",
       "      <td>3907.40</td>\n",
       "      <td>1147.09</td>\n",
       "      <td>39.51</td>\n",
       "      <td>0.00</td>\n",
       "      <td>2720.80</td>\n",
       "      <td>2717.47</td>\n",
       "      <td>3.33</td>\n",
       "      <td>0.00</td>\n",
       "      <td>2016</td>\n",
       "      <td>0.0</td>\n",
       "      <td>1.0</td>\n",
       "    </tr>\n",
       "    <tr>\n",
       "      <th>4254</th>\n",
       "      <td>0.97</td>\n",
       "      <td>267953.78</td>\n",
       "      <td>150786.30</td>\n",
       "      <td>27025.48</td>\n",
       "      <td>565.65</td>\n",
       "      <td>89576.35</td>\n",
       "      <td>74664.71</td>\n",
       "      <td>14911.64</td>\n",
       "      <td>0.00</td>\n",
       "      <td>2016</td>\n",
       "      <td>1.0</td>\n",
       "      <td>0.0</td>\n",
       "    </tr>\n",
       "    <tr>\n",
       "      <th>16588</th>\n",
       "      <td>1.45</td>\n",
       "      <td>8805.28</td>\n",
       "      <td>828.39</td>\n",
       "      <td>3.24</td>\n",
       "      <td>0.00</td>\n",
       "      <td>7973.65</td>\n",
       "      <td>7456.43</td>\n",
       "      <td>517.22</td>\n",
       "      <td>0.00</td>\n",
       "      <td>2017</td>\n",
       "      <td>0.0</td>\n",
       "      <td>1.0</td>\n",
       "    </tr>\n",
       "  </tbody>\n",
       "</table>\n",
       "</div>"
      ],
      "text/plain": [
       "       AveragePrice  Total Volume  Small/Medium Hass Size  Large Hass Size  \\\n",
       "8604           0.82     218329.70                79239.58         26356.05   \n",
       "2608           0.97     391514.43               228324.13         72749.38   \n",
       "14581          1.44       3907.40                 1147.09            39.51   \n",
       "4254           0.97     267953.78               150786.30         27025.48   \n",
       "16588          1.45       8805.28                  828.39             3.24   \n",
       "\n",
       "       XLarge Hass Size  Total Bags  Small Bags  Large Bags  XLarge Bags  \\\n",
       "8604            2998.74   109735.33    73393.34    34338.97      2003.02   \n",
       "2608             100.62    90340.30    44449.47    45890.83         0.00   \n",
       "14581              0.00     2720.80     2717.47        3.33         0.00   \n",
       "4254             565.65    89576.35    74664.71    14911.64         0.00   \n",
       "16588              0.00     7973.65     7456.43      517.22         0.00   \n",
       "\n",
       "       year  conventional  organic  \n",
       "8604   2018           1.0      0.0  \n",
       "2608   2015           1.0      0.0  \n",
       "14581  2016           0.0      1.0  \n",
       "4254   2016           1.0      0.0  \n",
       "16588  2017           0.0      1.0  "
      ]
     },
     "execution_count": 28,
     "metadata": {},
     "output_type": "execute_result"
    }
   ],
   "source": [
    "from sklearn.model_selection import train_test_split\n",
    "train_set, test_set = train_test_split(df, test_size=0.2, random_state=42)\n",
    "test_set.head()\n"
   ]
  },
  {
   "cell_type": "code",
   "execution_count": 29,
   "id": "b073a761",
   "metadata": {},
   "outputs": [],
   "source": [
    "Y_train = train_set['AveragePrice']\n",
    "X_train = train_set.drop(['AveragePrice'],axis = 1)"
   ]
  },
  {
   "cell_type": "code",
   "execution_count": 30,
   "id": "35561c1f",
   "metadata": {},
   "outputs": [],
   "source": [
    "Y_test = test_set['AveragePrice']\n",
    "X_test = test_set.drop(['AveragePrice'],axis = 1)"
   ]
  },
  {
   "cell_type": "code",
   "execution_count": 31,
   "id": "e5a78654",
   "metadata": {},
   "outputs": [
    {
     "data": {
      "text/plain": [
       "LinearRegression()"
      ]
     },
     "execution_count": 31,
     "metadata": {},
     "output_type": "execute_result"
    }
   ],
   "source": [
    "from sklearn.linear_model import LinearRegression\n",
    "from sklearn.metrics import mean_squared_error\n",
    "LR = LinearRegression()\n",
    "LR.fit(X_train, Y_train)"
   ]
  },
  {
   "cell_type": "code",
   "execution_count": 33,
   "id": "865e59f4",
   "metadata": {},
   "outputs": [
    {
     "data": {
      "text/plain": [
       "0.09760990350808654"
      ]
     },
     "execution_count": 33,
     "metadata": {},
     "output_type": "execute_result"
    }
   ],
   "source": [
    "prediction = LR.predict(X_test)\n",
    "mean_squared_error(prediction, Y_test)"
   ]
  },
  {
   "cell_type": "code",
   "execution_count": 34,
   "id": "760d1e3a",
   "metadata": {},
   "outputs": [
    {
     "data": {
      "text/plain": [
       "RandomForestRegressor(min_samples_leaf=10, random_state=42)"
      ]
     },
     "execution_count": 34,
     "metadata": {},
     "output_type": "execute_result"
    }
   ],
   "source": [
    "from sklearn.ensemble import RandomForestRegressor\n",
    "RFR = RandomForestRegressor (n_estimators = 100, min_samples_leaf = 10, random_state = 42)\n",
    "RFR.fit(X_train, Y_train)"
   ]
  },
  {
   "cell_type": "code",
   "execution_count": 36,
   "id": "65a137dc",
   "metadata": {},
   "outputs": [
    {
     "data": {
      "text/plain": [
       "0.037579361799355254"
      ]
     },
     "execution_count": 36,
     "metadata": {},
     "output_type": "execute_result"
    }
   ],
   "source": [
    "prediction2 = RFR.predict(X_test)\n",
    "mean_squared_error(prediction2, Y_test)"
   ]
  },
  {
   "cell_type": "code",
   "execution_count": null,
   "id": "30fae57c",
   "metadata": {},
   "outputs": [],
   "source": []
  }
 ],
 "metadata": {
  "kernelspec": {
   "display_name": "Python 3 (ipykernel)",
   "language": "python",
   "name": "python3"
  },
  "language_info": {
   "codemirror_mode": {
    "name": "ipython",
    "version": 3
   },
   "file_extension": ".py",
   "mimetype": "text/x-python",
   "name": "python",
   "nbconvert_exporter": "python",
   "pygments_lexer": "ipython3",
   "version": "3.9.12"
  }
 },
 "nbformat": 4,
 "nbformat_minor": 5
}
