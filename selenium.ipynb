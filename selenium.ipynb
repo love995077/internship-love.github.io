{
 "cells": [
  {
   "cell_type": "code",
   "execution_count": 1,
   "id": "53db2af0",
   "metadata": {},
   "outputs": [
    {
     "name": "stdout",
     "output_type": "stream",
     "text": [
      "Requirement already satisfied: selenium in c:\\users\\love todawat\\anaconda3\\lib\\site-packages (4.8.3)\n",
      "Requirement already satisfied: certifi>=2021.10.8 in c:\\users\\love todawat\\anaconda3\\lib\\site-packages (from selenium) (2021.10.8)\n",
      "Requirement already satisfied: trio-websocket~=0.9 in c:\\users\\love todawat\\anaconda3\\lib\\site-packages (from selenium) (0.10.2)\n",
      "Requirement already satisfied: urllib3[socks]~=1.26 in c:\\users\\love todawat\\anaconda3\\lib\\site-packages (from selenium) (1.26.9)\n",
      "Requirement already satisfied: trio~=0.17 in c:\\users\\love todawat\\anaconda3\\lib\\site-packages (from selenium) (0.22.0)\n",
      "Requirement already satisfied: idna in c:\\users\\love todawat\\anaconda3\\lib\\site-packages (from trio~=0.17->selenium) (3.3)\n",
      "Requirement already satisfied: exceptiongroup>=1.0.0rc9 in c:\\users\\love todawat\\anaconda3\\lib\\site-packages (from trio~=0.17->selenium) (1.1.1)\n",
      "Requirement already satisfied: outcome in c:\\users\\love todawat\\anaconda3\\lib\\site-packages (from trio~=0.17->selenium) (1.2.0)\n",
      "Requirement already satisfied: cffi>=1.14 in c:\\users\\love todawat\\anaconda3\\lib\\site-packages (from trio~=0.17->selenium) (1.15.0)\n",
      "Requirement already satisfied: sniffio in c:\\users\\love todawat\\anaconda3\\lib\\site-packages (from trio~=0.17->selenium) (1.2.0)\n",
      "Requirement already satisfied: attrs>=19.2.0 in c:\\users\\love todawat\\anaconda3\\lib\\site-packages (from trio~=0.17->selenium) (21.4.0)\n",
      "Requirement already satisfied: sortedcontainers in c:\\users\\love todawat\\anaconda3\\lib\\site-packages (from trio~=0.17->selenium) (2.4.0)\n",
      "Requirement already satisfied: async-generator>=1.9 in c:\\users\\love todawat\\anaconda3\\lib\\site-packages (from trio~=0.17->selenium) (1.10)\n",
      "Requirement already satisfied: pycparser in c:\\users\\love todawat\\anaconda3\\lib\\site-packages (from cffi>=1.14->trio~=0.17->selenium) (2.21)\n",
      "Requirement already satisfied: wsproto>=0.14 in c:\\users\\love todawat\\anaconda3\\lib\\site-packages (from trio-websocket~=0.9->selenium) (1.2.0)\n",
      "Requirement already satisfied: PySocks!=1.5.7,<2.0,>=1.5.6 in c:\\users\\love todawat\\anaconda3\\lib\\site-packages (from urllib3[socks]~=1.26->selenium) (1.7.1)\n",
      "Requirement already satisfied: h11<1,>=0.9.0 in c:\\users\\love todawat\\anaconda3\\lib\\site-packages (from wsproto>=0.14->trio-websocket~=0.9->selenium) (0.14.0)\n"
     ]
    }
   ],
   "source": [
    "!pip install selenium"
   ]
  },
  {
   "cell_type": "code",
   "execution_count": 2,
   "id": "179cbab0",
   "metadata": {},
   "outputs": [],
   "source": [
    "import selenium\n",
    "import pandas as pd\n",
    "import warnings\n",
    "warnings.filterwarnings('ignore')\n",
    "from selenium import webdriver\n",
    "from selenium.webdriver.common.by import By\n",
    "import time"
   ]
  },
  {
   "cell_type": "code",
   "execution_count": null,
   "id": "a0b9ee4b",
   "metadata": {},
   "outputs": [],
   "source": [
    "driver = webdriver.Chrome(r\"C:\\Users\\love todawat\\Downloads\\chromedriver.exe\")"
   ]
  },
  {
   "cell_type": "code",
   "execution_count": null,
   "id": "d6e2ffb8",
   "metadata": {},
   "outputs": [],
   "source": [
    "driver.get('https://www.naukri.com/')"
   ]
  },
  {
   "cell_type": "code",
   "execution_count": null,
   "id": "a97b7e9e",
   "metadata": {},
   "outputs": [],
   "source": [
    "variable=driver.find_element(By.CLASS_NAME,\"suggestor-input\")\n",
    "variable.send_keys('data analyst')"
   ]
  },
  {
   "cell_type": "code",
   "execution_count": null,
   "id": "913b2b30",
   "metadata": {},
   "outputs": [],
   "source": [
    "location=driver.find_element(By.XPATH,'/html/body/div[1]/div[7]/div/div/div[5]/div/div/div/div[1]/div/input')\n",
    "location.send_keys('banglore')"
   ]
  },
  {
   "cell_type": "code",
   "execution_count": null,
   "id": "5df8cb01",
   "metadata": {},
   "outputs": [],
   "source": [
    "search=driver.find_element(By.CLASS_NAME,\"qsbSubmit\")\n",
    "search.click()"
   ]
  },
  {
   "cell_type": "code",
   "execution_count": null,
   "id": "03dbc385",
   "metadata": {},
   "outputs": [],
   "source": [
    "job_title=[]\n",
    "title_tags=driver.find_elements(By.XPATH,'//a[@class=\"title ellipsis\"]')\n",
    "for i in title_tags[0:10]:\n",
    "    job_title.append(i.text)\n",
    "job_title"
   ]
  },
  {
   "cell_type": "code",
   "execution_count": null,
   "id": "e1aa086e",
   "metadata": {},
   "outputs": [],
   "source": [
    "job_location=[]\n",
    "company_name=[]\n",
    "experiance_required=[]"
   ]
  },
  {
   "cell_type": "code",
   "execution_count": null,
   "id": "54b42041",
   "metadata": {},
   "outputs": [],
   "source": [
    "location_title=driver.find_elements(By.XPATH,'//span[@class=\"ellipsis fleft locWdth\"]')\n",
    "for i in location_title[0:10]:\n",
    "    job_location.append(i.text)\n",
    "job_location\n"
   ]
  },
  {
   "cell_type": "code",
   "execution_count": null,
   "id": "623b5678",
   "metadata": {},
   "outputs": [],
   "source": [
    "company_title=driver.find_elements(By.XPATH,'//a[@class=\"subTitle ellipsis fleft\"]')\n",
    "for i in company_title[0:10]:\n",
    "    company_name.append(i.text)\n",
    "company_name"
   ]
  },
  {
   "cell_type": "code",
   "execution_count": null,
   "id": "40fbd804",
   "metadata": {},
   "outputs": [],
   "source": [
    "experiance_title=driver.find_elements(By.XPATH,'//span[@class=\"ellipsis fleft expwdth\"]')\n",
    "for i in experiance_title[0:10]:\n",
    "    experiance_required.append(i.text)\n",
    "experiance_required"
   ]
  },
  {
   "cell_type": "code",
   "execution_count": null,
   "id": "95f89677",
   "metadata": {},
   "outputs": [],
   "source": [
    "df=pd.DataFrame({'job':job_title,'location':job_location,'comapny':company_name,'experiance':experiance_required})\n",
    "df"
   ]
  },
  {
   "cell_type": "code",
   "execution_count": null,
   "id": "90e57cc4",
   "metadata": {},
   "outputs": [],
   "source": [
    "driver.get(\"https://www.flipkart.com/\")\n"
   ]
  },
  {
   "cell_type": "code",
   "execution_count": null,
   "id": "38301cf0",
   "metadata": {},
   "outputs": [],
   "source": [
    "variable=driver.find_element(By.CLASS_NAME,\"_3704LK\")\n",
    "variable.send_keys('sunglasses')"
   ]
  },
  {
   "cell_type": "code",
   "execution_count": null,
   "id": "c1484ca4",
   "metadata": {},
   "outputs": [],
   "source": [
    "search=driver.find_element(By.CLASS_NAME,\"L0Z3Pu\")\n",
    "search.click()"
   ]
  },
  {
   "cell_type": "code",
   "execution_count": null,
   "id": "ea90aa20",
   "metadata": {},
   "outputs": [],
   "source": [
    "sunglasses=[]\n",
    "price=[]\n",
    "discription=[]\n"
   ]
  },
  {
   "cell_type": "code",
   "execution_count": null,
   "id": "8d417c72",
   "metadata": {
    "scrolled": true
   },
   "outputs": [],
   "source": [
    "start=0\n",
    "end=3\n",
    "for page in range(start,end):\n",
    "    price_details = driver.find_elements(By.XPATH,'//div[@class=\"_30jeq3\"]')\n",
    "    for i in price_details[:100]:\n",
    "        price.append(i.text)\n",
    "    next_button = driver.find_element(By.XPATH,'//a[@class=\"_1LKTO3\"]')\n",
    "    next_button.click()\n",
    "    time.sleep(3)\n",
    "\n",
    "    "
   ]
  },
  {
   "cell_type": "code",
   "execution_count": null,
   "id": "226403ad",
   "metadata": {
    "scrolled": true
   },
   "outputs": [],
   "source": [
    "len(price)\n",
    "prices=price[:-20]\n",
    "len(prices)"
   ]
  },
  {
   "cell_type": "code",
   "execution_count": null,
   "id": "aac79441",
   "metadata": {
    "scrolled": true
   },
   "outputs": [],
   "source": [
    "price"
   ]
  },
  {
   "cell_type": "code",
   "execution_count": null,
   "id": "0940ea74",
   "metadata": {},
   "outputs": [],
   "source": [
    "start=0\n",
    "end=3\n",
    "for page in range(start,end):\n",
    "    sun_glass=driver.find_elements(By.XPATH,'//div[@class=\"_2WkVRV\"]')\n",
    "    for i in sun_glass[:100]:\n",
    "        sunglasses.append(i.text)\n",
    "    next_button = driver.find_element(By.XPATH,'//a[@class=\"_1LKTO3\"]')\n",
    "    next_button.click()\n",
    "    time.sleep(3)\n"
   ]
  },
  {
   "cell_type": "code",
   "execution_count": null,
   "id": "c0dfea1c",
   "metadata": {},
   "outputs": [],
   "source": [
    "sunglasses"
   ]
  },
  {
   "cell_type": "code",
   "execution_count": null,
   "id": "eee181f0",
   "metadata": {},
   "outputs": [],
   "source": [
    "len(sunglasses)\n",
    "sunglasses100 = sunglasses[:-20]  # remove the last 20 elements\n",
    "len(sunglasses100)"
   ]
  },
  {
   "cell_type": "code",
   "execution_count": null,
   "id": "9ffa72d2",
   "metadata": {},
   "outputs": [],
   "source": [
    "start =0\n",
    "end =3\n",
    "for page in range(start,end):\n",
    "    product_description=driver.find_elements(By.XPATH,\"//div[contains(@class, 'IRpwTa')]\")\n",
    "    \n",
    "    for i in product_description:\n",
    "        discription.append(i.text)\n",
    "    next_button = driver.find_element(By.XPATH,'//a[@class=\"_1LKTO3\"]')\n",
    "    next_button.click()\n",
    "    time.sleep(3)\n"
   ]
  },
  {
   "cell_type": "code",
   "execution_count": null,
   "id": "aa502f92",
   "metadata": {
    "scrolled": false
   },
   "outputs": [],
   "source": [
    "discription"
   ]
  },
  {
   "cell_type": "code",
   "execution_count": null,
   "id": "d02afebd",
   "metadata": {},
   "outputs": [],
   "source": [
    "len(discription)\n",
    "discription100=discription[:-18]\n",
    "discription100=discription[:-18]\n",
    "discription100=discription[:-18]\n",
    "\n",
    "len(discription100)"
   ]
  },
  {
   "cell_type": "code",
   "execution_count": null,
   "id": "8805b20c",
   "metadata": {},
   "outputs": [],
   "source": [
    "df=pd.DataFrame({'sunglass':sunglasses100,'prices':prices})\n",
    "df"
   ]
  },
  {
   "cell_type": "code",
   "execution_count": null,
   "id": "713f31b6",
   "metadata": {},
   "outputs": [],
   "source": [
    "driver.get(\"https://www.flipkart.com/\")"
   ]
  },
  {
   "cell_type": "code",
   "execution_count": null,
   "id": "ad8e47f9",
   "metadata": {},
   "outputs": [],
   "source": [
    "variable=driver.find_element(By.CLASS_NAME,\"_3704LK\")\n",
    "variable.send_keys('sneakers')\n"
   ]
  },
  {
   "cell_type": "code",
   "execution_count": null,
   "id": "e0c95044",
   "metadata": {},
   "outputs": [],
   "source": [
    "search=driver.find_element(By.CLASS_NAME,\"_34RNph\")\n",
    "search.click()"
   ]
  },
  {
   "cell_type": "code",
   "execution_count": null,
   "id": "992c04b0",
   "metadata": {},
   "outputs": [],
   "source": [
    "brand=[]\n",
    "product_discription=[]\n",
    "price=[]"
   ]
  },
  {
   "cell_type": "code",
   "execution_count": null,
   "id": "69863eb4",
   "metadata": {},
   "outputs": [],
   "source": [
    "start=0\n",
    "end=3\n",
    "for page in range(start,end):\n",
    "    total_brand=driver.find_elements(By.XPATH,'//div[@class=\"_2WkVRV\"]')\n",
    "    for i in total_brand:\n",
    "        brand.append(i.text)\n",
    "    next_button = driver.find_element(By.XPATH, '//a[@class=\"_1LKTO3\"]/span[text()=\"Next\"]')\n",
    "    next_button.click()\n",
    "    time.sleep(3)\n",
    "    "
   ]
  },
  {
   "cell_type": "code",
   "execution_count": null,
   "id": "11b3fcbf",
   "metadata": {},
   "outputs": [],
   "source": [
    "len(brand)\n",
    "brand100=brand[:-60]\n",
    "brand100"
   ]
  },
  {
   "cell_type": "code",
   "execution_count": null,
   "id": "632d9865",
   "metadata": {},
   "outputs": [],
   "source": [
    "start=0\n",
    "end=3 \n",
    "for page in range (start,end):\n",
    "    product=driver.find_elements(By.XPATH,'//a[@class=\"s1Q9rs\"]')\n",
    "    for i in product:\n",
    "        product_discription.append(i.text)\n",
    "    next_button = driver.find_element(By.XPATH, '//a[@class=\"_1LKTO3\"]/span[text()=\"Next\"]')\n",
    "    next_button.click()\n",
    "    time.sleep(3)\n",
    "    "
   ]
  },
  {
   "cell_type": "code",
   "execution_count": null,
   "id": "d14a55a4",
   "metadata": {},
   "outputs": [],
   "source": [
    "len(product_discription)"
   ]
  },
  {
   "cell_type": "code",
   "execution_count": null,
   "id": "f2c4b9b5",
   "metadata": {},
   "outputs": [],
   "source": [
    "start=0\n",
    "end=3\n",
    "for page in range (start,end):\n",
    "    prices=driver.find_elements(By.XPATH,'//div[@class=\"_30jeq3\"]')\n",
    "    for i in prices:\n",
    "        price.append(i.text)\n",
    "    next_button = driver.find_element(By.XPATH, '//a[@class=\"_1LKTO3\"]/span[text()=\"Next\"]')\n",
    "    next_button.click()\n",
    "    time.sleep(3)\n",
    "    "
   ]
  },
  {
   "cell_type": "code",
   "execution_count": null,
   "id": "a12b0876",
   "metadata": {},
   "outputs": [],
   "source": [
    "len(price)\n",
    "price100=price[:-20]\n",
    "price100"
   ]
  },
  {
   "cell_type": "code",
   "execution_count": null,
   "id": "265df3bb",
   "metadata": {},
   "outputs": [],
   "source": [
    "df=pd.DataFrame({'brands':brand100,'prices':price100})\n",
    "df"
   ]
  },
  {
   "cell_type": "code",
   "execution_count": null,
   "id": "66126ee3",
   "metadata": {},
   "outputs": [],
   "source": [
    "driver.get(\"https://www.flipkart.com/\")"
   ]
  },
  {
   "cell_type": "code",
   "execution_count": null,
   "id": "517a818a",
   "metadata": {},
   "outputs": [],
   "source": [
    "variable=driver.find_element(By.CLASS_NAME,\"_3704LK\")\n",
    "variable.send_keys('iphone11')\n"
   ]
  },
  {
   "cell_type": "code",
   "execution_count": null,
   "id": "8f5fbe66",
   "metadata": {},
   "outputs": [],
   "source": [
    "search=driver.find_element(By.CLASS_NAME,\"_34RNph\")\n",
    "search.click()"
   ]
  },
  {
   "cell_type": "code",
   "execution_count": null,
   "id": "a5ec2f75",
   "metadata": {},
   "outputs": [],
   "source": [
    "rating=[]\n",
    "review_summary=[]\n",
    "full_review=[]"
   ]
  },
  {
   "cell_type": "code",
   "execution_count": null,
   "id": "d8d6141b",
   "metadata": {},
   "outputs": [],
   "source": [
    "start=0\n",
    "end=3\n",
    "for page in range (start,end):\n",
    "    ratings=driver.find_elements(By.XPATH,'//div[@class=\"_3LWZlK\"]')\n",
    "    for i in ratings:\n",
    "        rating.append(i.text)\n",
    "    next_button = driver.find_element(By.XPATH, '//a[@class=\"_1LKTO3\"]')\n",
    "    next_button.click()\n",
    "    time.sleep(3)"
   ]
  },
  {
   "cell_type": "code",
   "execution_count": null,
   "id": "2908e798",
   "metadata": {},
   "outputs": [],
   "source": [
    "len(rating)\n",
    "rating100=rating[:-68]\n",
    "rating100"
   ]
  },
  {
   "cell_type": "code",
   "execution_count": null,
   "id": "416f6863",
   "metadata": {},
   "outputs": [],
   "source": [
    "start=0\n",
    "end=5\n",
    "for page in range (start,end):\n",
    "    review=driver.find_elements(By.XPATH,'//div[@class=\"_4rR01T\"]')\n",
    "    for i in review:\n",
    "        review_summary.append(i.text)\n",
    "    next_button = driver.find_element(By.XPATH, '//a[@class=\"_1LKTO3\"]')\n",
    "    next_button.click()\n",
    "    time.sleep(3)"
   ]
  },
  {
   "cell_type": "code",
   "execution_count": null,
   "id": "4241fd66",
   "metadata": {},
   "outputs": [],
   "source": [
    "len(review_summary)\n",
    "review100=review_summary[:-116]\n",
    "review100"
   ]
  },
  {
   "cell_type": "code",
   "execution_count": null,
   "id": "078354f8",
   "metadata": {},
   "outputs": [],
   "source": [
    "start=0\n",
    "end=4\n",
    "for page in range (start,end):\n",
    "    reviewss=driver.find_elements(By.XPATH,'//ul[@class=\"_1xgFaf\"]')\n",
    "    for i in reviewss:\n",
    "        full_review.append(i.text)\n",
    "    next_button = driver.find_element(By.XPATH, '//a[@class=\"_1LKTO3\"]')\n",
    "    next_button.click()\n",
    "    time.sleep(3)"
   ]
  },
  {
   "cell_type": "code",
   "execution_count": null,
   "id": "d4e8fbfd",
   "metadata": {},
   "outputs": [],
   "source": [
    "len(full_review)\n",
    "full_review100=full_review[:-92]\n",
    "full_review100"
   ]
  },
  {
   "cell_type": "code",
   "execution_count": null,
   "id": "f99accd4",
   "metadata": {},
   "outputs": [],
   "source": [
    "len(full_review100),len(review100),len(rating100)"
   ]
  },
  {
   "cell_type": "code",
   "execution_count": null,
   "id": "81967871",
   "metadata": {},
   "outputs": [],
   "source": [
    "df=pd.DataFrame({'ratings':rating100,'reviews':review100,'full_reviews':full_review100})\n",
    "df"
   ]
  },
  {
   "cell_type": "code",
   "execution_count": null,
   "id": "4649ff34",
   "metadata": {},
   "outputs": [],
   "source": [
    "driver.get( 'https://www.jagranjosh.com/')"
   ]
  },
  {
   "cell_type": "code",
   "execution_count": null,
   "id": "5ac88a70",
   "metadata": {},
   "outputs": [],
   "source": [
    "prime_minister=[]"
   ]
  },
  {
   "cell_type": "code",
   "execution_count": null,
   "id": "f1b4e4d1",
   "metadata": {},
   "outputs": [],
   "source": [
    "prime_ministers=driver.find_elements(By.XPATH,'//div[@class=\"table-box\"]')\n",
    "for i in prime_ministers:\n",
    "    prime_minister.append(i.text)\n",
    "prime_minister"
   ]
  },
  {
   "cell_type": "code",
   "execution_count": null,
   "id": "dd240a9b",
   "metadata": {},
   "outputs": [],
   "source": [
    "df=pd.DataFrame({'prime miinsters of india':prime_minister})\n",
    "df"
   ]
  },
  {
   "cell_type": "code",
   "execution_count": null,
   "id": "589bb1e4",
   "metadata": {},
   "outputs": [],
   "source": []
  }
 ],
 "metadata": {
  "kernelspec": {
   "display_name": "Python 3 (ipykernel)",
   "language": "python",
   "name": "python3"
  },
  "language_info": {
   "codemirror_mode": {
    "name": "ipython",
    "version": 3
   },
   "file_extension": ".py",
   "mimetype": "text/x-python",
   "name": "python",
   "nbconvert_exporter": "python",
   "pygments_lexer": "ipython3",
   "version": "3.9.12"
  }
 },
 "nbformat": 4,
 "nbformat_minor": 5
}
